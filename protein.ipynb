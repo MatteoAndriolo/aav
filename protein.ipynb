{
 "cells": [
  {
   "cell_type": "markdown",
   "id": "95001343-b81c-4d0d-bc39-bd49af9c3cd3",
   "metadata": {},
   "source": [
    "### Pickle\n",
    "defining function pickle for persistent storage of objects "
   ]
  },
  {
   "cell_type": "code",
   "execution_count": 1,
   "id": "407aa12f-5ccb-4d26-8b67-25db8bb799f0",
   "metadata": {},
   "outputs": [],
   "source": [
    "import pickle\n",
    "\n",
    "def pickleObject(alignment:object, name:str)-> None:\n",
    "    # Save object in a file \n",
    "    with open(f'{name}.pkl', 'wb') as outp:\n",
    "        pickle.dump(alignment, outp, pickle.HIGHEST_PROTOCOL)\n",
    "\n",
    "def unpickleObject(path:str=None)-> None:\n",
    "    # Load Object from file\n",
    "    with open(path, 'rb') as outp:\n",
    "        return pickle.load(outp)\n",
    "    \n"
   ]
  },
  {
   "cell_type": "markdown",
   "id": "da851282-b853-4dfc-bec9-dcec985f6259",
   "metadata": {},
   "source": [
    "### name2sequence"
   ]
  },
  {
   "cell_type": "code",
   "execution_count": 7,
   "id": "8b6d3d98",
   "metadata": {},
   "outputs": [
    {
     "name": "stdin",
     "output_type": "stream",
     "text": [
      "Inserisci nome=\t matteoandriolotommasovaraschin\n"
     ]
    },
    {
     "name": "stdout",
     "output_type": "stream",
     "text": [
      "MATTENANDRINLNTNMMASNVARASCHIN\n"
     ]
    }
   ],
   "source": [
    "import re\n",
    "amm=[ 'A', 'C', 'D', 'E', 'F', 'G', 'H', 'I', 'K', 'L', 'M', 'N', 'P', 'Q', 'R', 'S', 'T', 'V', 'W', 'Y']\n",
    "\n",
    "def replace(ch:str)->str:\n",
    "    if ch in amm:\n",
    "        return ch\n",
    "    else:\n",
    "        a=list(sorted(\n",
    "                amm, key=lambda x:abs(ord(ch.upper())-ord(x))\n",
    "            ))[0]\n",
    "        return a\n",
    "    \n",
    "def name2sequence(name:str)->str:\n",
    "    name=re.sub(r'\\W+', '', name)\n",
    "    newname=list(map(replace, [*name]))\n",
    "    newname=\"\".join(newname)\n",
    "    return newname\n",
    "\n",
    "\n",
    "sequence=name2sequence(input(\"Inserisci nome=\\t\"))\n",
    "print(sequence)"
   ]
  },
  {
   "cell_type": "code",
   "execution_count": 2,
   "id": "acbcb4b7-9cec-46ee-b2a1-13205ce9356a",
   "metadata": {},
   "outputs": [],
   "source": [
    "sequence=\"MALWMRLLPLLALLALWGPDPAAAFVNQHLCGSHLVEALYLVCGERGFFY\""
   ]
  },
  {
   "cell_type": "markdown",
   "id": "bc80cc71-ea54-45b7-98da-7e333a1a5854",
   "metadata": {},
   "source": [
    "## Get alignment using blast"
   ]
  },
  {
   "cell_type": "code",
   "execution_count": null,
   "id": "bc604da8",
   "metadata": {},
   "outputs": [],
   "source": [
    "from Bio.Blast import NCBIWWW\n",
    "from Bio import SearchIO\n",
    "def get_alignment(sequence: str):\n",
    "    result_handle=NCBIWWW.qblast(\"blastp\",\"pdb\",sequence,short_query=len(sequence)<30)\n",
    "    #result_handle=unpickleObject(\"backup.pkl.pkl\")\n",
    "    blast_record=SearchIO.read(result_handle,\"blast-xml\")\n",
    "    return blast_record\n",
    "\n",
    "blast_results=get_alignment(sequence)\n",
    "#pdb_id=blast_results[1].blast_id.split(\"|\")[0]"
   ]
  },
  {
   "cell_type": "markdown",
   "id": "be0be038-52a9-4727-88de-48019e38c2c4",
   "metadata": {},
   "source": [
    "### Using pickle"
   ]
  },
  {
   "cell_type": "code",
   "execution_count": null,
   "id": "f89cbcaa-6164-4524-a11d-e651a730aebc",
   "metadata": {},
   "outputs": [],
   "source": [
    "piklereceived=unpickleObject(\"blast_record.pkl\")\n",
    "hit_id=piklereceived[1].blast_id #\"pdb|6PXV|D\"\n",
    "pdb_id=hit_id.split(\"|\")[1]"
   ]
  },
  {
   "cell_type": "code",
   "execution_count": null,
   "id": "4344ed59-51f8-471a-bdd6-95f829d9ba93",
   "metadata": {},
   "outputs": [],
   "source": [
    "### PDB files"
   ]
  },
  {
   "cell_type": "code",
   "execution_count": null,
   "id": "17978744",
   "metadata": {},
   "outputs": [],
   "source": [
    "from Bio.PDB import PDBParser, PDBList\n",
    "\n",
    "def downloadpdbfile(pdb_id:str):\n",
    "    pdblist_manager=PDBList()\n",
    "    log.debug(\"downloadpdbfiles: downloading\")\n",
    "    pdblist_manager.download_pdb_files(pdb_codes=[pdb_id],file_format=\"pdb\",pdir=\"cache\")\n",
    "    \n",
    "    \n",
    "def getStructure(pdb_id:str):\n",
    "    downloadpdbfile(pdb_id)\n",
    "    parser=PDBParser()\n",
    "    structure = parser.get_structure(pdb_id,f\"./cache/pdb{pdb_id.lower()}.ent\")\n",
    "    return structure\n",
    "   \n",
    "structure=getStructure(pdb_id)"
   ]
  },
  {
   "cell_type": "code",
   "execution_count": null,
   "id": "065b0d12",
   "metadata": {},
   "outputs": [],
   "source": [
    " for chain in structure[0]:\n",
    "    print(f\"chain id:{chain.id}\")\n",
    "\n",
    "    "
   ]
  },
  {
   "cell_type": "code",
   "execution_count": null,
   "id": "f132cabd",
   "metadata": {},
   "outputs": [],
   "source": [
    "import nglview as nv\n",
    "\n",
    "nv.show_biopython(structure, gui=True)"
   ]
  },
  {
   "cell_type": "code",
   "execution_count": null,
   "id": "69e407e1-0477-4a91-a401-62bdf260e0d5",
   "metadata": {},
   "outputs": [],
   "source": []
  }
 ],
 "metadata": {
  "kernelspec": {
   "display_name": "Python 3 (ipykernel)",
   "language": "python",
   "name": "python3"
  },
  "language_info": {
   "codemirror_mode": {
    "name": "ipython",
    "version": 3
   },
   "file_extension": ".py",
   "mimetype": "text/x-python",
   "name": "python",
   "nbconvert_exporter": "python",
   "pygments_lexer": "ipython3",
   "version": "3.7.13"
  }
 },
 "nbformat": 4,
 "nbformat_minor": 5
}
